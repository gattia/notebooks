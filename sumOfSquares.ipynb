{
 "cells": [
  {
   "cell_type": "markdown",
   "metadata": {},
   "source": [
    "# Sum of Squares\n",
    "https://en.wikipedia.org/wiki/Residual_sum_of_squares\n",
    "\n",
    "RSS= \\begin{equation*} \n",
    "\\left( \\sum_{i=1}^{n}(y_{i}-f(x_{i}))^{2} \\right)\n",
    "\\end{equation*}"
   ]
  },
  {
   "cell_type": "markdown",
   "metadata": {},
   "source": [
    "Let's create a vector X that is the original values; and a vector Xrec which are the recreated values of X. \n"
   ]
  },
  {
   "cell_type": "code",
   "execution_count": 4,
   "metadata": {
    "collapsed": false
   },
   "outputs": [],
   "source": [
    "import numpy\n",
    "X = numpy.random.random_integers(0,100, 100)   # this is an array of lenght 100, with values between 0 and 100. \n",
    "Xrec = X + (numpy.random.random_integers(-10,10,100)) # this adds a random integer between -10 and 10 to each element of X"
   ]
  },
  {
   "cell_type": "markdown",
   "metadata": {},
   "source": [
    "To perform the above equation and determine the sum of squares we need to determine the differnce for each data point, then square those differences and then sum them. So: "
   ]
  },
  {
   "cell_type": "code",
   "execution_count": 7,
   "metadata": {
    "collapsed": false
   },
   "outputs": [
    {
     "name": "stdout",
     "output_type": "stream",
     "text": [
      "The sum of squares is: 3299\n"
     ]
    }
   ],
   "source": [
    "diff = X-Xrec\n",
    "diffSquared = numpy.square(diff)\n",
    "sumOfSquares = numpy.sum(diffSquared)\n",
    "print('The sum of squares is: ' + str(sumOfSquares))"
   ]
  },
  {
   "cell_type": "markdown",
   "metadata": {},
   "source": [
    "Alternatively. We can do some matrix math. \n",
    "\n",
    "The equation from the paper Says: \n",
    "\\begin{equation*} \n",
    "\\left( \\sum_{n=1}^{p}(X_{n*p}-f(x_{n*p}))(X_{n*p}-f(x_{n*p}))' \\right)\n",
    "\\end{equation*}\n",
    "\n",
    "And matrix math says that we do MatrixA rows * matrix B columns and that we sum them. This way, we end up with matrix that is the size of the rows of matrix A and the size of the columns of matrix B. \n",
    "\n",
    "In this equation essentially in the first set of brackets we will have a n*p matrix, where p = number of datapoints in a waveform and n = participant. In the low back pain study X n*p was 318*51 because the waveforms were normalized to 51 points and because they had 106 participants (50 healthy; 56 low back pain) * 3 conditions = 318 observations (rows). \n",
    "\n",
    "So, in their case the matrix X is 318*51 with 318 = number of participants and 51 = number of data points. \n",
    "It says that the result is a 1xn matrix. So is this matrix calcualted and then the sum along each of the columns is performed. "
   ]
  },
  {
   "cell_type": "code",
   "execution_count": null,
   "metadata": {
    "collapsed": true
   },
   "outputs": [],
   "source": []
  }
 ],
 "metadata": {
  "kernelspec": {
   "display_name": "Python 2",
   "language": "python",
   "name": "python2"
  },
  "language_info": {
   "codemirror_mode": {
    "name": "ipython",
    "version": 2
   },
   "file_extension": ".py",
   "mimetype": "text/x-python",
   "name": "python",
   "nbconvert_exporter": "python",
   "pygments_lexer": "ipython2",
   "version": "2.7.12"
  }
 },
 "nbformat": 4,
 "nbformat_minor": 0
}
