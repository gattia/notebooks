{
 "cells": [
  {
   "cell_type": "markdown",
   "metadata": {},
   "source": [
    "# Sum of Squares\n",
    "https://en.wikipedia.org/wiki/Residual_sum_of_squares\n",
    "\n",
    "RSS= \\begin{equation*} \n",
    "\\left( \\sum_{i=1}^{n}(y_{i}-f(x_{i}))^{2} \\right)\n",
    "\\end{equation*}"
   ]
  },
  {
   "cell_type": "markdown",
   "metadata": {},
   "source": [
    "Let's create a vector X that is the original values; and a vector Xrec which are the recreated values of X. \n"
   ]
  },
  {
   "cell_type": "code",
   "execution_count": 2,
   "metadata": {
    "collapsed": false
   },
   "outputs": [],
   "source": [
    "import numpy\n",
    "X = numpy.random.random_integers(0,100, 100)   # this is an array of lenght 100, with values between 0 and 100. \n",
    "Xrec = X + (numpy.random.random_integers(-10,10,100)) # this adds a random integer between -10 and 10 to each element of X"
   ]
  },
  {
   "cell_type": "markdown",
   "metadata": {},
   "source": [
    "To perform the above equation and determine the sum of squares we need to determine the differnce for each data point, then square those differences and then sum them. So: "
   ]
  },
  {
   "cell_type": "code",
   "execution_count": 7,
   "metadata": {
    "collapsed": false
   },
   "outputs": [
    {
     "name": "stdout",
     "output_type": "stream",
     "text": [
      "The sum of squares is: 3299\n"
     ]
    }
   ],
   "source": [
    "diff = X-Xrec\n",
    "diffSquared = numpy.square(diff)\n",
    "sumOfSquares = numpy.sum(diffSquared)\n",
    "print('The sum of squares is: ' + str(sumOfSquares))"
   ]
  },
  {
   "cell_type": "markdown",
   "metadata": {},
   "source": [
    "Alternatively. We can do some matrix math. \n",
    "\n",
    "The equation from the paper Says: \n",
    "\\begin{equation*} \n",
    "\\left( \\sum_{n=1}^{p}(X_{n*p}-f(x_{n*p}))(X_{n*p}-f(x_{n*p}))' \\right)\n",
    "\\end{equation*}\n",
    "\n",
    "And matrix math says that we do MatrixA rows * matrix B columns and that we sum them. This way, we end up with matrix that is the size of the rows of matrix A and the size of the columns of matrix B. \n",
    "\n",
    "In this equation essentially in the first set of brackets we will have a n*p matrix, where p = number of datapoints in a waveform and n = participant. In the low back pain study X n*p was 318*51 because the waveforms were normalized to 51 points and because they had 106 participants (50 healthy; 56 low back pain) * 3 conditions = 318 observations (rows). \n",
    "\n",
    "So, in their case the matrix X is 318*51 with 318 = number of participants and 51 = number of data points. \n",
    "It says that the result is a 1xn matrix. So is this matrix calcualted and then the sum along each of the columns is performed. "
   ]
  },
  {
   "cell_type": "markdown",
   "metadata": {},
   "source": [
    "So, below I want to look at the idea of determining the sum of squares using matrix math"
   ]
  },
  {
   "cell_type": "markdown",
   "metadata": {},
   "source": [
    "## Example\n",
    "Here we take a row vector (assume these are differences or residuals). We first determine the square of each element (A2), and then we take the sum of A2 to get the sum of squares). "
   ]
  },
  {
   "cell_type": "code",
   "execution_count": 6,
   "metadata": {
    "collapsed": false
   },
   "outputs": [
    {
     "name": "stdout",
     "output_type": "stream",
     "text": [
      "[1 2 3 4 5]\n",
      "[ 1  4  9 16 25]\n",
      "55\n"
     ]
    }
   ],
   "source": [
    "A = numpy.array([1,2,3,4,5]) \n",
    "A2 = numpy.square(A)\n",
    "sumOfA = numpy.sum(A2)\n",
    "print (A)\n",
    "print (A2)\n",
    "print (sumOfA)"
   ]
  },
  {
   "cell_type": "markdown",
   "metadata": {},
   "source": [
    "To get eh same result via just some math, we do the dot product of row vector A with its transpose. This yields the same result - 55. "
   ]
  },
  {
   "cell_type": "code",
   "execution_count": 8,
   "metadata": {
    "collapsed": false
   },
   "outputs": [
    {
     "name": "stdout",
     "output_type": "stream",
     "text": [
      "55\n"
     ]
    }
   ],
   "source": [
    "sumMatrixMath = numpy.dot(A,numpy.transpose(A)) #similarly here, if we just do the dot product of the row vector with its transpose we get the sum of squares. \n",
    "print(sumMatrixMath)"
   ]
  },
  {
   "cell_type": "markdown",
   "metadata": {},
   "source": [
    "So... what happens when we make this a multidimensional array. "
   ]
  },
  {
   "cell_type": "code",
   "execution_count": 10,
   "metadata": {
    "collapsed": false
   },
   "outputs": [
    {
     "name": "stdout",
     "output_type": "stream",
     "text": [
      "[[ 1  2  3  4  5]\n",
      " [ 6  7  8  9 10]]\n",
      "[[  1   4   9  16  25]\n",
      " [ 36  49  64  81 100]]\n",
      "385\n"
     ]
    }
   ],
   "source": [
    "B = numpy.array([[1,2,3,4,5], [6,7,8,9,10]])\n",
    "B2 = numpy.square(B)\n",
    "sumOfB = numpy.sum(B2)\n",
    "print(B)\n",
    "print(B2)\n",
    "print(sumOfB)"
   ]
  },
  {
   "cell_type": "code",
   "execution_count": 11,
   "metadata": {
    "collapsed": false
   },
   "outputs": [
    {
     "name": "stdout",
     "output_type": "stream",
     "text": [
      "[[ 55 130]\n",
      " [130 330]]\n"
     ]
    }
   ],
   "source": [
    "sumMatrixMathB = numpy.dot(B,numpy.transpose(B))\n",
    "print(sumMatrixMathB)"
   ]
  },
  {
   "cell_type": "markdown",
   "metadata": {},
   "source": [
    "So, now.... when we do this we get a 2x2. Essenntially, we end up with a square matrix the same size as the first dimension (rows) of the original array. The sum of squares here is actually the sum of the diagonals."
   ]
  },
  {
   "cell_type": "code",
   "execution_count": 13,
   "metadata": {
    "collapsed": false
   },
   "outputs": [
    {
     "name": "stdout",
     "output_type": "stream",
     "text": [
      "[ 55 330]\n"
     ]
    }
   ],
   "source": [
    "diagonalB = numpy.diagonal(sumMatrixMathB)\n",
    "print(diagonalB)"
   ]
  },
  {
   "cell_type": "code",
   "execution_count": 14,
   "metadata": {
    "collapsed": false
   },
   "outputs": [
    {
     "name": "stdout",
     "output_type": "stream",
     "text": [
      "385\n"
     ]
    }
   ],
   "source": [
    "sumDiagonalB = numpy.sum(diagonalB)\n",
    "print(sumDiagonalB)"
   ]
  },
  {
   "cell_type": "markdown",
   "metadata": {},
   "source": [
    "So. We see here that the resuls is the same. "
   ]
  },
  {
   "cell_type": "markdown",
   "metadata": {},
   "source": [
    "If we were to instead do the sum of each column of the result of the math we would get: "
   ]
  },
  {
   "cell_type": "code",
   "execution_count": 16,
   "metadata": {
    "collapsed": false
   },
   "outputs": [
    {
     "name": "stdout",
     "output_type": "stream",
     "text": [
      "[185 460]\n"
     ]
    }
   ],
   "source": [
    "sumRows = numpy.sum(sumMatrixMathB,1)\n",
    "print(sumRows)"
   ]
  },
  {
   "cell_type": "markdown",
   "metadata": {},
   "source": [
    "Quickly interpretting... this cant be the sum of squares for each individual trial (row) because one of these values is greater than the sum of squares for the entire matrix which we calculated above (385). Though, we can prove that the diagonal is the sum of squares for that respective trial"
   ]
  },
  {
   "cell_type": "code",
   "execution_count": 20,
   "metadata": {
    "collapsed": false
   },
   "outputs": [
    {
     "name": "stdout",
     "output_type": "stream",
     "text": [
      "The sum of squares for row 1 is: 55\n",
      "The sum of squares for row 2 is: 330\n"
     ]
    }
   ],
   "source": [
    "sumSquaresRow1 = numpy.dot(B[0,:], numpy.transpose(B[0,:]))\n",
    "sumSquaresRow2 = numpy.dot(B[1,:], numpy.transpose(B[1,:]))\n",
    "print('The sum of squares for row 1 is: ' + str(sumSquaresRow1))\n",
    "print('The sum of squares for row 2 is: ' + str(sumSquaresRow2))\n"
   ]
  },
  {
   "cell_type": "markdown",
   "metadata": {},
   "source": [
    "So, if you look at these resulsts and them go back to the matrix diaconalB which is printed above (In[13]:) you will see that these values (sumOfSquares) for the rows calcualted manually are the same as the diagonal of the matrix. "
   ]
  },
  {
   "cell_type": "code",
   "execution_count": null,
   "metadata": {
    "collapsed": true
   },
   "outputs": [],
   "source": []
  }
 ],
 "metadata": {
  "kernelspec": {
   "display_name": "Python 2",
   "language": "python",
   "name": "python2"
  },
  "language_info": {
   "codemirror_mode": {
    "name": "ipython",
    "version": 2
   },
   "file_extension": ".py",
   "mimetype": "text/x-python",
   "name": "python",
   "nbconvert_exporter": "python",
   "pygments_lexer": "ipython2",
   "version": "2.7.12"
  }
 },
 "nbformat": 4,
 "nbformat_minor": 0
}
